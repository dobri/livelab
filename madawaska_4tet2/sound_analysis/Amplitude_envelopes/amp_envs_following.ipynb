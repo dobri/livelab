{
 "cells": [
  {
   "cell_type": "code",
   "execution_count": null,
   "metadata": {},
   "outputs": [],
   "source": [
    "## Musical following study\n",
    "# Script extracting amplitude envelopes from .wav files\n",
    "# Written by Lucas Klein - June 2020"
   ]
  },
  {
   "cell_type": "code",
   "execution_count": 78,
   "metadata": {},
   "outputs": [],
   "source": [
    "# Import functions\n",
    "%reset -f\n",
    "\n",
    "from playsound import playsound\n",
    "import scipy\n",
    "from scipy.io import wavfile\n",
    "import matplotlib.pyplot as plt\n",
    "import numpy as np\n",
    "import pandas as pd\n",
    "from pathlib import Path\n",
    "import glob\n",
    "import os\n",
    "\n",
    "os.chdir('/Users/lucas/Desktop/Musical_following/')"
   ]
  },
  {
   "cell_type": "code",
   "execution_count": 79,
   "metadata": {},
   "outputs": [],
   "source": [
    "#playsound('T2_regular.wav')"
   ]
  },
  {
   "cell_type": "code",
   "execution_count": 80,
   "metadata": {},
   "outputs": [
    {
     "name": "stdout",
     "output_type": "stream",
     "text": [
      "['Emily', 'Erica', 'Lucas']\n"
     ]
    }
   ],
   "source": [
    "## Find the .wav files and make a list of them\n",
    "# The data_folder is where each participant's recordings are stored\n",
    "\n",
    "os.getcwd()\n",
    "data_folder = '/Users/lucas/Desktop/Musical_following/DATA'\n",
    "participants = os.listdir(data_folder)\n",
    "participants.sort()\n",
    "participants.pop(0) # This takes the '.DS_Store' entry off the list\n",
    "\n",
    "print(participants)"
   ]
  },
  {
   "cell_type": "code",
   "execution_count": 81,
   "metadata": {},
   "outputs": [],
   "source": [
    "## Function that uses wavfile.read to extract data from .wav files\n",
    "\n",
    "def get_sound(trial):\n",
    "    sf, a = scipy.io.wavfile.read(trial) # sampling rate SHOULD be 44.1 kHz\n",
    "    # a is the data returned as a Numpy array. For 24-bit PCM .wav file, Numpy data type is int16\n",
    "    \n",
    "    t_samples = len(a) # number of time samples\n",
    "    t_sec = np.arange(t_samples)*(1/sf) # total length of .wav file in seconds\n",
    "    \n",
    "    ae = np.array(a)\n",
    "    \n",
    "    return ae, t_samples, t_sec, sf"
   ]
  },
  {
   "cell_type": "code",
   "execution_count": 82,
   "metadata": {},
   "outputs": [],
   "source": [
    "# def extract_amp_env(sound, print_output = True):\n",
    "#     t_samples = len(sound)\n",
    "#     t_sec = np.arange(t_samples)*(1/sample_rate)\n",
    "\n",
    "#     amp_env = np.array(sound)\n",
    "#     return amp_env"
   ]
  },
  {
   "cell_type": "code",
   "execution_count": 83,
   "metadata": {},
   "outputs": [
    {
     "name": "stdout",
     "output_type": "stream",
     "text": [
      "['/Users/lucas/Desktop/Musical_following/DATA/Emily/gc1.wav', '/Users/lucas/Desktop/Musical_following/DATA/Emily/gc2.wav', '/Users/lucas/Desktop/Musical_following/DATA/Emily/gc3.wav', '/Users/lucas/Desktop/Musical_following/DATA/Emily/gc4.wav', '/Users/lucas/Desktop/Musical_following/DATA/Emily/gc5.wav', '/Users/lucas/Desktop/Musical_following/DATA/Emily/gc6.wav', '/Users/lucas/Desktop/Musical_following/DATA/Emily/gc7.wav', '/Users/lucas/Desktop/Musical_following/DATA/Emily/gc8.wav', '/Users/lucas/Desktop/Musical_following/DATA/Emily/gc9.wav', '/Users/lucas/Desktop/Musical_following/DATA/Emily/gc_10.wav']\n",
      "['/Users/lucas/Desktop/Musical_following/DATA/Erica/EricaPiano-1.wav', '/Users/lucas/Desktop/Musical_following/DATA/Erica/EricaPiano-2.wav', '/Users/lucas/Desktop/Musical_following/DATA/Erica/EricaPiano-3.wav', '/Users/lucas/Desktop/Musical_following/DATA/Erica/EricaPiano-4.wav', '/Users/lucas/Desktop/Musical_following/DATA/Erica/EricaPiano-5.wav', '/Users/lucas/Desktop/Musical_following/DATA/Erica/EricaPiano-6.wav', '/Users/lucas/Desktop/Musical_following/DATA/Erica/EricaPiano-7.wav', '/Users/lucas/Desktop/Musical_following/DATA/Erica/EricaPiano-8.wav', '/Users/lucas/Desktop/Musical_following/DATA/Erica/EricaPiano-9.wav', '/Users/lucas/Desktop/Musical_following/DATA/Erica/EricaPiano_10.wav']\n",
      "['/Users/lucas/Desktop/Musical_following/DATA/Lucas/fiddle_s.wav']\n"
     ]
    }
   ],
   "source": [
    "## EXTRACT AMPLITUDE ENVELOPES\n",
    "# Loop through participants in data_folder\n",
    "# For each participant, loop through all trials\n",
    "# For each trial, read data, detect sampling rate, extract amp env, and save output as .npy\n",
    "\n",
    "sampling_rates = [] # empty list of sampling rates\n",
    "\n",
    "for participant in participants: \n",
    "    participant_folder = '/Users/lucas/Desktop/Musical_following/DATA/' + participant\n",
    "    filenames = glob.glob(participant_folder + \"/*.wav\") # make a list of the the .wav files\n",
    "    filenames.sort()\n",
    "    \n",
    "    # IMPORTANT! Make sure obj. filenames lists trials in the correct order\n",
    "    # Depending on how participants label their recordings, this list could be in a wonky order\n",
    "    # This is very important when checking to see how Granger changes over course of trials\n",
    "    print(filenames)\n",
    "    \n",
    "    for triali in filenames:\n",
    "        trial_num = filenames.index(triali) + 1 # add 1 to avoid having a \"Trial 0\"\n",
    "        rec, t_samples, t_sec, sf_triali = get_sound(triali)\n",
    "        \n",
    "        sampling_rates += [[sf_triali]] # Add this trial's sampling rate to the list\n",
    "        \n",
    "#         amp_env = extract_amp_env(sound, print_output = True) # Makes a 2D array of amplitudes\n",
    "        \n",
    "        np.save('/Users/lucas/Desktop/Musical_following/ANALYSIS/Npys/{}/Trial_{}.npy'.format(participant,trial_num),rec) # Save amp env as .npy file\n",
    "        \n"
   ]
  },
  {
   "cell_type": "code",
   "execution_count": 84,
   "metadata": {},
   "outputs": [],
   "source": [
    "# Then do the same as above for the stimulus track\n",
    "\n",
    "stim_loc = '/Users/lucas/Desktop/Musical_following/ANALYSIS/arp1.wav'\n",
    "stim, t_samples_stim, t_sec_stim, sf_stim = get_sound(stim_loc)\n",
    "np.save('/Users/lucas/Desktop/Musical_following/ANALYSIS/arp1.npy',stim) "
   ]
  },
  {
   "cell_type": "code",
   "execution_count": 85,
   "metadata": {},
   "outputs": [
    {
     "name": "stdout",
     "output_type": "stream",
     "text": [
      "[[ 0  0]\n",
      " [ 0 -1]\n",
      " [ 0  0]\n",
      " ...\n",
      " [39 40]\n",
      " [42 43]\n",
      " [46 46]]\n",
      "[[0 0]\n",
      " [0 0]\n",
      " [0 0]\n",
      " ...\n",
      " [0 0]\n",
      " [0 0]\n",
      " [0 0]]\n"
     ]
    }
   ],
   "source": [
    "print(rec)\n",
    "print(stim)\n",
    "# sound = Numpy array of values\n",
    "# n_samples = number of samples\n",
    "# t_sec = length of .wav file in seconds\n",
    "# sampling_rates now lists the sampling rates of each trial so we can make sure they're all 44.1 kHz"
   ]
  },
  {
   "cell_type": "code",
   "execution_count": 86,
   "metadata": {},
   "outputs": [
    {
     "name": "stdout",
     "output_type": "stream",
     "text": [
      "[[44100], [44100], [44100], [44100], [44100], [44100], [44100], [44100], [44100], [44100], [44100], [44100], [44100], [44100], [44100], [44100], [44100], [44100], [44100], [44100], [44100]]\n",
      "5418787\n",
      "122.87496598639456\n"
     ]
    }
   ],
   "source": [
    "# Check that sampling rates are all 44100\n",
    "print(sampling_rates)\n",
    "print(t_samples)\n",
    "print(max(t_sec))"
   ]
  },
  {
   "cell_type": "code",
   "execution_count": 92,
   "metadata": {},
   "outputs": [
    {
     "data": {
      "text/plain": [
       "[<matplotlib.lines.Line2D at 0x7fd47141fb10>,\n",
       " <matplotlib.lines.Line2D at 0x7fd47141f210>]"
      ]
     },
     "execution_count": 92,
     "metadata": {},
     "output_type": "execute_result"
    },
    {
     "data": {
      "image/png": "[encoded data removed]",
      "text/plain": [
       "<Figure size 432x288 with 1 Axes>"
      ]
     },
     "metadata": {
      "needs_background": "light"
     },
     "output_type": "display_data"
    }
   ],
   "source": [
    "# Look at sound envelopes\n",
    "plt.plot(rec)\n",
    "plt.plot(stim)"
   ]
  },
  {
   "cell_type": "code",
   "execution_count": 88,
   "metadata": {},
   "outputs": [],
   "source": [
    "from scipy import signal"
   ]
  },
  {
   "cell_type": "code",
   "execution_count": 89,
   "metadata": {},
   "outputs": [],
   "source": [
    "## Design butterworth filter\n",
    "# filter order = 3, critical freq = .001\n",
    "# For LP or HP filters, critical freq is a scalar.\n",
    "\n",
    "b, a = signal.butter(3, 0.001) "
   ]
  },
  {
   "cell_type": "code",
   "execution_count": 94,
   "metadata": {},
   "outputs": [
    {
     "name": "stdout",
     "output_type": "stream",
     "text": [
      "['/Users/lucas/Desktop/Musical_following/ANALYSIS/Npys/Emily/Trial_1.npy', '/Users/lucas/Desktop/Musical_following/ANALYSIS/Npys/Emily/Trial_10.npy', '/Users/lucas/Desktop/Musical_following/ANALYSIS/Npys/Emily/Trial_2.npy', '/Users/lucas/Desktop/Musical_following/ANALYSIS/Npys/Emily/Trial_3.npy', '/Users/lucas/Desktop/Musical_following/ANALYSIS/Npys/Emily/Trial_4.npy', '/Users/lucas/Desktop/Musical_following/ANALYSIS/Npys/Emily/Trial_5.npy', '/Users/lucas/Desktop/Musical_following/ANALYSIS/Npys/Emily/Trial_6.npy', '/Users/lucas/Desktop/Musical_following/ANALYSIS/Npys/Emily/Trial_7.npy', '/Users/lucas/Desktop/Musical_following/ANALYSIS/Npys/Emily/Trial_8.npy', '/Users/lucas/Desktop/Musical_following/ANALYSIS/Npys/Emily/Trial_9.npy']\n",
      "['/Users/lucas/Desktop/Musical_following/ANALYSIS/Npys/Erica/Trial_1.npy', '/Users/lucas/Desktop/Musical_following/ANALYSIS/Npys/Erica/Trial_10.npy', '/Users/lucas/Desktop/Musical_following/ANALYSIS/Npys/Erica/Trial_2.npy', '/Users/lucas/Desktop/Musical_following/ANALYSIS/Npys/Erica/Trial_3.npy', '/Users/lucas/Desktop/Musical_following/ANALYSIS/Npys/Erica/Trial_4.npy', '/Users/lucas/Desktop/Musical_following/ANALYSIS/Npys/Erica/Trial_5.npy', '/Users/lucas/Desktop/Musical_following/ANALYSIS/Npys/Erica/Trial_6.npy', '/Users/lucas/Desktop/Musical_following/ANALYSIS/Npys/Erica/Trial_7.npy', '/Users/lucas/Desktop/Musical_following/ANALYSIS/Npys/Erica/Trial_8.npy', '/Users/lucas/Desktop/Musical_following/ANALYSIS/Npys/Erica/Trial_9.npy']\n",
      "['/Users/lucas/Desktop/Musical_following/ANALYSIS/Npys/Lucas/Trial_1.npy']\n"
     ]
    }
   ],
   "source": [
    "## LOAD saved .npy files back into script as objects\n",
    "# For each participant, loop through all trials\n",
    "# For each trial, load the .npy file, take it's absolute value, and apply the filter\n",
    "# Then save each trial it as a .txt file in a different folder\n",
    "\n",
    "for participant in participants:\n",
    "    participant_folder = '/Users/lucas/Desktop/Musical_following/ANALYSIS/Npys/' + participant\n",
    "    filenames = glob.glob(participant_folder + \"/*.npy\") # make a list of the .npy files\n",
    "    filenames.sort()\n",
    "    \n",
    "    # IMPORTANT! Make sure obj. filenames lists trials in the correct order\n",
    "    # Depending on how participants label their recordings, this list could be in a wonky order\n",
    "    # This is very important when checking to see how Granger changes over course of trials\n",
    "    print(filenames)\n",
    "    \n",
    "    for triali in filenames:\n",
    "        trial_num = filenames.index(triali) + 1 # add 1 to avoid having a \"Trial 0\"\n",
    "        l = np.load(triali)\n",
    "        m = np.abs(l)\n",
    "        rec_filt = signal.filtfilt(b, a, m, axis = 0) # b and a are filter parameters from above, m is data array\n",
    "        \n",
    "        #np.savetxt('/Users/lucas/Desktop/Musical_following/ANALYSIS/Txts/{}/Trial_{}.txt'.format(participant,trial_num),rec_filt)\n",
    "        # This can take a long time..."
   ]
  },
  {
   "cell_type": "code",
   "execution_count": 95,
   "metadata": {},
   "outputs": [],
   "source": [
    "# Then do the same as above for the stimulus track\n",
    "\n",
    "stim_npy_loc = '/Users/lucas/Desktop/Musical_following/ANALYSIS/arp1.npy'\n",
    "s = np.load(stim_npy_loc)\n",
    "t = np.abs(s)\n",
    "stim_filt = signal.filtfilt(b, a, t, axis = 0) # b and a are filter parameters from above, t is data array\n",
    "# np.savetxt('/Users/lucas/Desktop/Musical_following/ANALYSIS/arp1.txt',stim_filt) # this can take a while"
   ]
  },
  {
   "cell_type": "code",
   "execution_count": 98,
   "metadata": {},
   "outputs": [
    {
     "name": "stdout",
     "output_type": "stream",
     "text": [
      "[[ 0.57729951  0.56861685]\n",
      " [ 0.57867035  0.5699721 ]\n",
      " [ 0.58004148  0.57132766]\n",
      " ...\n",
      " [46.7057482  46.70308305]\n",
      " [46.70574801 46.70308286]\n",
      " [46.70574786 46.7030827 ]]\n",
      "[[7.87023185e+00 9.23581520e+00]\n",
      " [7.92535832e+00 9.29325468e+00]\n",
      " [7.98063406e+00 9.35083347e+00]\n",
      " ...\n",
      " [4.37219653e-29 5.30345324e-29]\n",
      " [4.37219632e-29 5.30345301e-29]\n",
      " [4.37219616e-29 5.30345283e-29]]\n"
     ]
    },
    {
     "data": {
      "image/png": "[encoded data removed]",
      "text/plain": [
       "<Figure size 432x288 with 1 Axes>"
      ]
     },
     "metadata": {
      "needs_background": "light"
     },
     "output_type": "display_data"
    }
   ],
   "source": [
    "## Look at filtered time series\n",
    "print(rec_filt)\n",
    "print(stim_filt)\n",
    "plt.plot(rec_filt)\n",
    "plt.plot(stim_filt)\n",
    "plt.show()"
   ]
  },
  {
   "cell_type": "code",
   "execution_count": 97,
   "metadata": {},
   "outputs": [
    {
     "ename": "ValueError",
     "evalue": "object too deep for desired array",
     "output_type": "error",
     "traceback": [
      "\u001b[0;31m---------------------------------------------------------------------------\u001b[0m",
      "\u001b[0;31mValueError\u001b[0m                                Traceback (most recent call last)",
      "\u001b[0;32m<ipython-input-97-0bc203f25b0c>\u001b[0m in \u001b[0;36m<module>\u001b[0;34m\u001b[0m\n\u001b[1;32m      1\u001b[0m \u001b[0;31m## Correlate two time series\u001b[0m\u001b[0;34m\u001b[0m\u001b[0;34m\u001b[0m\u001b[0;34m\u001b[0m\u001b[0m\n\u001b[1;32m      2\u001b[0m \u001b[0;34m\u001b[0m\u001b[0m\n\u001b[0;32m----> 3\u001b[0;31m \u001b[0mcorr\u001b[0m \u001b[0;34m=\u001b[0m \u001b[0mnp\u001b[0m\u001b[0;34m.\u001b[0m\u001b[0mcorrelate\u001b[0m\u001b[0;34m(\u001b[0m\u001b[0mrec_filt\u001b[0m\u001b[0;34m,\u001b[0m\u001b[0mstim_filt\u001b[0m\u001b[0;34m)\u001b[0m\u001b[0;34m\u001b[0m\u001b[0;34m\u001b[0m\u001b[0m\n\u001b[0m\u001b[1;32m      4\u001b[0m \u001b[0mcorr\u001b[0m\u001b[0;34m\u001b[0m\u001b[0;34m\u001b[0m\u001b[0m\n",
      "\u001b[0;32m<__array_function__ internals>\u001b[0m in \u001b[0;36mcorrelate\u001b[0;34m(*args, **kwargs)\u001b[0m\n",
      "\u001b[0;32m~/opt/anaconda3/lib/python3.7/site-packages/numpy/core/numeric.py\u001b[0m in \u001b[0;36mcorrelate\u001b[0;34m(a, v, mode)\u001b[0m\n\u001b[1;32m    710\u001b[0m     \"\"\"\n\u001b[1;32m    711\u001b[0m     \u001b[0mmode\u001b[0m \u001b[0;34m=\u001b[0m \u001b[0m_mode_from_name\u001b[0m\u001b[0;34m(\u001b[0m\u001b[0mmode\u001b[0m\u001b[0;34m)\u001b[0m\u001b[0;34m\u001b[0m\u001b[0;34m\u001b[0m\u001b[0m\n\u001b[0;32m--> 712\u001b[0;31m     \u001b[0;32mreturn\u001b[0m \u001b[0mmultiarray\u001b[0m\u001b[0;34m.\u001b[0m\u001b[0mcorrelate2\u001b[0m\u001b[0;34m(\u001b[0m\u001b[0ma\u001b[0m\u001b[0;34m,\u001b[0m \u001b[0mv\u001b[0m\u001b[0;34m,\u001b[0m \u001b[0mmode\u001b[0m\u001b[0;34m)\u001b[0m\u001b[0;34m\u001b[0m\u001b[0;34m\u001b[0m\u001b[0m\n\u001b[0m\u001b[1;32m    713\u001b[0m \u001b[0;34m\u001b[0m\u001b[0m\n\u001b[1;32m    714\u001b[0m \u001b[0;34m\u001b[0m\u001b[0m\n",
      "\u001b[0;31mValueError\u001b[0m: object too deep for desired array"
     ]
    }
   ],
   "source": [
    "## Correlate two time series\n",
    "\n",
    "corr = np.correlate(rec_filt,stim_filt)\n",
    "corr\n",
    "\n",
    "# I think they need to be truncated"
   ]
  },
  {
   "cell_type": "code",
   "execution_count": 343,
   "metadata": {},
   "outputs": [
    {
     "data": {
      "text/plain": [
       "1"
      ]
     },
     "execution_count": 343,
     "metadata": {},
     "output_type": "execute_result"
    }
   ],
   "source": [
    "# np.size(corr)"
   ]
  },
  {
   "cell_type": "code",
   "execution_count": 344,
   "metadata": {},
   "outputs": [
    {
     "data": {
      "text/plain": [
       "[<matplotlib.lines.Line2D at 0x7f92c44b6050>]"
      ]
     },
     "execution_count": 344,
     "metadata": {},
     "output_type": "execute_result"
    },
    {
     "data": {
      "image/png": "[encoded data removed]",
      "text/plain": [
       "<Figure size 432x288 with 1 Axes>"
      ]
     },
     "metadata": {
      "needs_background": "light"
     },
     "output_type": "display_data"
    }
   ],
   "source": [
    "# plt.plot(corr)"
   ]
  }
 ],
 "metadata": {
  "kernelspec": {
   "display_name": "Python 3",
   "language": "python",
   "name": "python3"
  },
  "language_info": {
   "codemirror_mode": {
    "name": "ipython",
    "version": 3
   },
   "file_extension": ".py",
   "mimetype": "text/x-python",
   "name": "python",
   "nbconvert_exporter": "python",
   "pygments_lexer": "ipython3",
   "version": "3.8.2"
  }
 },
 "nbformat": 4,
 "nbformat_minor": 4
}
